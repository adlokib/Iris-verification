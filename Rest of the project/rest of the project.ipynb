{
 "cells": [
  {
   "cell_type": "code",
   "execution_count": 1,
   "metadata": {
    "scrolled": true
   },
   "outputs": [],
   "source": [
    "import glob\n",
    "import cv2\n",
    "import numpy as np\n",
    "import matplotlib.pyplot as plt\n",
    "import pickle\n",
    "import oct2py\n",
    "from oct2py import octave\n",
    "\n",
    "import math\n",
    "from scipy.spatial import distance\n",
    "import scipy.signal\n",
    "from sklearn.discriminant_analysis import LinearDiscriminantAnalysis as LDA\n",
    "from sklearn import metrics"
   ]
  },
  {
   "cell_type": "code",
   "execution_count": 2,
   "metadata": {},
   "outputs": [],
   "source": [
    "def iris(Image):\n",
    "    Enhanced=[]\n",
    "    oc = oct2py.Oct2Py()\n",
    "    oc.eval('pkg load image')\n",
    "    for idx in range(len(Image)):\n",
    "        filt=3\n",
    "        par=0.0\n",
    "        while True:\n",
    "            imgi=Image[idx].copy()\n",
    "            blur=imgi\n",
    "            oc.push('I', blur)\n",
    "            oc.push('par',par)\n",
    "            oc.eval(\"I=uint8(I);\");\n",
    "            oc.eval(\"seg=1-im2bw(I,graythresh(I,'maxentropy')-par);\")\n",
    "            seg=oc.pull('seg')\n",
    "            seg=seg.astype('uint8')\n",
    "            blur=255*seg    \n",
    "            blur=cv2.blur(blur,(3,3))\n",
    "            blur=cv2.medianBlur(blur,9)\n",
    "            for i in range(40):\n",
    "                blur = cv2.bilateralFilter(blur, 4,75,75)\n",
    "            seg=blur\n",
    "            img = cv2.blur(seg,(1,1))\n",
    "            circles = cv2.HoughCircles(img,cv2.HOUGH_GRADIENT,1,150,param1=50,param2=30,minRadius=0,maxRadius=0)\n",
    "            if circles is not None:\n",
    "                break\n",
    "            else:\n",
    "                filt=filt+2\n",
    "                if filt>=15:\n",
    "                    filt=3\n",
    "                    par+=0.1\n",
    "        circles = np.uint16(np.around(circles))\n",
    "        for j in circles[0,:]:\n",
    "            center_x = j[0]\n",
    "            center_y = j[1]\n",
    "            radius_pupil=int(j[2])\n",
    "            \n",
    "            iris_radius = 53\n",
    "        \n",
    "        nsamples = 360\n",
    "        samples = np.linspace(0,2*np.pi, nsamples)[:-1]\n",
    "        polar = np.zeros((iris_radius, nsamples))\n",
    "    \n",
    "        for r in range(iris_radius):\n",
    "            for theta in samples:\n",
    "                #get x and y for values on inner boundary\n",
    "                x = (r+radius_pupil)*np.cos(theta)+center_x\n",
    "                y = (r+radius_pupil)*np.sin(theta)+center_y\n",
    "                x=int(x)\n",
    "                y=int(y)\n",
    "                try:\n",
    "                #convert coordinates\n",
    "                    polar[r][int((theta*nsamples)/(2*np.pi))] = imgi[y][x]\n",
    "                except IndexError: #ignores values which lie out of bounds\n",
    "                    pass\n",
    "                continue\n",
    "        polar=polar.astype(np.uint8)\n",
    "        polar=cv2.resize(polar,(512,64))\n",
    "        enhanced=cv2.equalizeHist(polar)\n",
    "        Enhanced.append(enhanced)\n",
    "        #cv2.imshow(\"xy\",enhanced)\n",
    "        #cv2.waitKey()\n",
    "    return Enhanced"
   ]
  },
  {
   "cell_type": "code",
   "execution_count": 3,
   "metadata": {},
   "outputs": [],
   "source": [
    "def m(x ,y, f):\n",
    "    val = np.cos(2*np.pi*f*math.sqrt(x **2 + y**2))\n",
    "    return val\n",
    "#spatial filter as defined in paper\n",
    "def gabor(x, y, dx, dy, f):\n",
    "    gb = (1/(2*math.pi*dx*dy))*np.exp(-0.5*(x**2 / dx**2 + y**2 / dy**2)) * m(x, y, f)\n",
    "    return gb\n",
    "\n",
    "#function to calculate spatial filter over 8x8 blocks\n",
    "def spatial(f,dx,dy):\n",
    "    sfilter=np.zeros((8,8))\n",
    "    for i in range(8):\n",
    "        for j in range(8):\n",
    "            sfilter[i,j]=gabor((-4+j),(-4+i),dx,dy,f)\n",
    "    return sfilter\n",
    "\n",
    "def get_vec(convolvedtrain1,convolvedtrain2):\n",
    "    feature_vec=[]\n",
    "    for i in range(6):\n",
    "            for j in range(64):\n",
    "                #Run 8 by 8 filtered block iteratively over the entire image\n",
    "                start_height = i*8\n",
    "                end_height = start_height+8\n",
    "                start_wid = j*8\n",
    "                end_wid = start_wid+8\n",
    "                grid1 = convolvedtrain1[start_height:end_height, start_wid:end_wid]\n",
    "                grid2 = convolvedtrain2[start_height:end_height, start_wid:end_wid]\n",
    "\n",
    "                # Channel 1\n",
    "                absolute = np.absolute(grid1)\n",
    "                # mean\n",
    "                mean = np.mean(absolute)\n",
    "                feature_vec.append(mean)\n",
    "                #deviation\n",
    "                std = np.mean(np.absolute(absolute-mean))\n",
    "                feature_vec.append(std)\n",
    "\n",
    "                # Channel 2\n",
    "                absolute = np.absolute(grid2)\n",
    "                # mean\n",
    "                mean = np.mean(absolute)\n",
    "                feature_vec.append(mean)\n",
    "                #deviation\n",
    "                std = np.mean(np.absolute(absolute-mean))\n",
    "                feature_vec.append(std)\n",
    "\n",
    "    return feature_vec\n",
    "\n",
    "def FeatureExtraction(enhanced):\n",
    "    con1=[]\n",
    "    con2=[]\n",
    "    #get spatial filters\n",
    "    filter1=spatial(0.67,3,1.5)\n",
    "    filter2=spatial(0.67,4,1.5) \n",
    "    \n",
    "    feature_vector=[]\n",
    "    \n",
    "    for i in range(len(enhanced)):\n",
    "        img=enhanced[i]\n",
    "        #define a 48x512 region over which the filters are applied\n",
    "        img_roi=img[:48,:]\n",
    "        \n",
    "        filtered1=scipy.signal.convolve2d(img_roi,filter1,mode='same')\n",
    "        filtered2=scipy.signal.convolve2d(img_roi,filter2,mode='same')\n",
    "        \n",
    "        con1.append(filtered1)\n",
    "        con2.append(filtered2)\n",
    "        fv=get_vec(filtered1,filtered2)\n",
    "        feature_vector.append(fv)\n",
    "    return feature_vector #each feature vector has a dimension of 1536\n"
   ]
  },
  {
   "cell_type": "code",
   "execution_count": 4,
   "metadata": {},
   "outputs": [],
   "source": [
    "with open('name_L.pkl', 'rb') as f:\n",
    "    name_L = pickle.load(f)\n",
    "    \n",
    "with open('img_L.pkl', 'rb') as f:\n",
    "    img_L = pickle.load(f)"
   ]
  },
  {
   "cell_type": "code",
   "execution_count": 5,
   "metadata": {},
   "outputs": [],
   "source": [
    "length=[[len(img[0]),len(img[1])] for img in img_L]\n",
    "length=np.asarray(length)\n",
    "indices=np.transpose(np.nonzero(length>=7))"
   ]
  },
  {
   "cell_type": "code",
   "execution_count": 6,
   "metadata": {},
   "outputs": [],
   "source": [
    "train_names=[]\n",
    "test_names=[]\n",
    "train_images=[]\n",
    "test_images=[]\n",
    "for i in range(len(indices)):\n",
    "    train_names.append(name_L[indices[i][0]][indices[i][1]][:4])\n",
    "    test_names.append(name_L[indices[i][0]][indices[i][1]][4:])\n",
    "    train_images.append(img_L[indices[i][0]][indices[i][1]][:4])\n",
    "    test_images.append(img_L[indices[i][0]][indices[i][1]][4:])"
   ]
  },
  {
   "cell_type": "code",
   "execution_count": 7,
   "metadata": {},
   "outputs": [
    {
     "name": "stderr",
     "output_type": "stream",
     "text": [
      "H:\\Heavy_softwares\\Anaconda3\\envs\\venv2\\lib\\site-packages\\sklearn\\base.py:318: UserWarning: Trying to unpickle estimator LinearDiscriminantAnalysis from version 0.20.3 when using version 0.22.2.post1. This might lead to breaking code or invalid results. Use at your own risk.\n",
      "  UserWarning)\n"
     ]
    }
   ],
   "source": [
    "with open('sklearn_lda.pkl', 'rb') as f:\n",
    "    model = pickle.load(f)"
   ]
  },
  {
   "cell_type": "code",
   "execution_count": 8,
   "metadata": {},
   "outputs": [],
   "source": [
    "Image=[train_images[104][0]]#some list\n",
    "Enhanced=iris(Image)\n",
    "feature_vector=FeatureExtraction(Enhanced)\n",
    "A=model.transform(feature_vector)"
   ]
  },
  {
   "cell_type": "code",
   "execution_count": 15,
   "metadata": {},
   "outputs": [],
   "source": [
    "Image=[test_images[105][2]]#some list\n",
    "Enhanced=iris(Image)\n",
    "feature_vector=FeatureExtraction(Enhanced)\n",
    "B=model.transform(feature_vector)"
   ]
  },
  {
   "cell_type": "code",
   "execution_count": 16,
   "metadata": {},
   "outputs": [
    {
     "name": "stdout",
     "output_type": "stream",
     "text": [
      "[[0.13608274]]\n"
     ]
    }
   ],
   "source": [
    "cos_sim=(np.dot(A,B.T))/(np.sqrt(np.dot(A,A.T))*np.sqrt(np.dot(B,B.T)))\n",
    "print(cos_sim)"
   ]
  },
  {
   "cell_type": "code",
   "execution_count": 17,
   "metadata": {},
   "outputs": [
    {
     "name": "stdout",
     "output_type": "stream",
     "text": [
      "Not authenticated.\n"
     ]
    }
   ],
   "source": [
    "thresh=0.4\n",
    "if cos_sim>=thresh:\n",
    "    print(\"Authenticated.\")\n",
    "else:\n",
    "    print(\"Not authenticated.\")"
   ]
  },
  {
   "cell_type": "code",
   "execution_count": null,
   "metadata": {},
   "outputs": [],
   "source": []
  }
 ],
 "metadata": {
  "kernelspec": {
   "display_name": "Python 3",
   "language": "python",
   "name": "python3"
  },
  "language_info": {
   "codemirror_mode": {
    "name": "ipython",
    "version": 3
   },
   "file_extension": ".py",
   "mimetype": "text/x-python",
   "name": "python",
   "nbconvert_exporter": "python",
   "pygments_lexer": "ipython3",
   "version": "3.7.4"
  }
 },
 "nbformat": 4,
 "nbformat_minor": 2
}
