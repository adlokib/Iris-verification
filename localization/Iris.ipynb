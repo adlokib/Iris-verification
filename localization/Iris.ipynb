{
 "cells": [
  {
   "cell_type": "code",
   "execution_count": null,
   "metadata": {},
   "outputs": [],
   "source": [
    "import numpy as np\n",
    "import cv2\n",
    "import h5py\n",
    "import os\n",
    "\n",
    "path=r'./located eyesP/'\n",
    "\n",
    "if not os.path.exists(path):\n",
    "    os.mkdir(path)"
   ]
  },
  {
   "cell_type": "code",
   "execution_count": null,
   "metadata": {},
   "outputs": [],
   "source": [
    "eye_cascade={}\n",
    "eye_cascade['1']=cv2.CascadeClassifier('./haarcascade_eye.xml')\n",
    "eye_cascade['2']=cv2.CascadeClassifier('./haarcascade_eye_tree_eyeglasses.xml')\n",
    "eye_cascade['L']=cv2.CascadeClassifier('./haarcascade_lefteye_2splits.xml')\n",
    "eye_cascade['R']=cv2.CascadeClassifier('./haarcascade_righteye_2splits.xml')"
   ]
  },
  {
   "cell_type": "code",
   "execution_count": null,
   "metadata": {},
   "outputs": [],
   "source": [
    "with h5py.File('casiaP.h5', 'r') as hf:\n",
    "    img = hf['casiaP'][:]\n",
    "    \n",
    "print(img.shape)"
   ]
  },
  {
   "cell_type": "code",
   "execution_count": null,
   "metadata": {},
   "outputs": [],
   "source": [
    "def findEyes(image,p=5.16,q=3.3,cf=5):\n",
    "    \n",
    "    width=image.shape[1]\n",
    "    mid=int(width/2)\n",
    "    mins=int(width/p)\n",
    "    bigs=int(width/q)\n",
    "    \n",
    "    flagL=0\n",
    "    flagR=0\n",
    "    Leye=[]\n",
    "    Reye=[]\n",
    "    \n",
    "    eyes=main_bloc('2',image,mins,bigs,cf)\n",
    "    Leye,flagL,Reye,flagR=segregate(eyes,mid,Leye,flagL,Reye,flagR)\n",
    "        \n",
    "    if(len(eyes)<2):\n",
    "        eyes=main_bloc('1',image,mins,bigs,cf)\n",
    "        Leye,flagL,Reye,flagR=segregate(eyes,mid,Leye,flagL,Reye,flagR)     \n",
    "            \n",
    "    if(flagL==0) or (flagR==0) :\n",
    "        eyes=LR_bloc(image,mins,bigs,cf)\n",
    "        Leye,flagL,Reye,flagR=segregate(eyes,mid,Leye,flagL,Reye,flagR)\n",
    "                \n",
    "    Leye=np.asarray(Leye)\n",
    "    Reye=np.asarray(Reye)\n",
    "\n",
    "    Leye=np.mean(Leye,axis=0,keepdims=True) if(Leye.size>0) else np.array([])\n",
    "    Leye=Leye.astype(int)\n",
    "    Reye=np.mean(Reye,axis=0,keepdims=True) if(Reye.size>0) else np.array([])\n",
    "    Reye=Reye.astype(int)\n",
    "    \n",
    "    return Leye,Reye"
   ]
  },
  {
   "cell_type": "code",
   "execution_count": null,
   "metadata": {},
   "outputs": [],
   "source": [
    "def main_bloc(C,image,mins,bigs,cf):\n",
    "    \n",
    "    eyes=func(C,image,mins,bigs)\n",
    "    if(len(eyes)>2):\n",
    "        eyes=LR_bloc(image,mins,bigs,cf)\n",
    "\n",
    "    if(len(eyes)<2):\n",
    "        eyes2 = func(C,cv2.equalizeHist(image),mins,bigs)\n",
    "        eyes = eyes2 if (len(eyes2)>len(eyes))and(len(eyes2)<=2) else eyes\n",
    "    \n",
    "    eyes=np.asarray(eyes)\n",
    "    return eyes"
   ]
  },
  {
   "cell_type": "code",
   "execution_count": null,
   "metadata": {},
   "outputs": [],
   "source": [
    "def LR_bloc(image,mins,bigs,cf):\n",
    "    \n",
    "    eyes=one_eye_bloc('L',image,mins,bigs,cf)\n",
    "    eyes2=one_eye_bloc('R',image,mins,bigs,cf)\n",
    "    \n",
    "    eyes.extend(eyes2)\n",
    "    eyes=np.asarray(eyes)\n",
    "    \n",
    "    return eyes"
   ]
  },
  {
   "cell_type": "code",
   "execution_count": null,
   "metadata": {},
   "outputs": [],
   "source": [
    "def one_eye_bloc(C,image,mins,bigs,cf):\n",
    "    \n",
    "    eyes = func(C,image,mins,bigs)\n",
    "    eyes=np.asarray(eyes)\n",
    "    \n",
    "    eyes=np.asarray([[ex,ey+int(eh/cf),ew,eh]for (ex,ey,ew,eh) in eyes]) if eyes.size>0 else eyes\n",
    "    \n",
    "    eyes=eyes.tolist()\n",
    "    eyes = [] if(len(eyes)>2) else eyes\n",
    "    \n",
    "    return eyes"
   ]
  },
  {
   "cell_type": "code",
   "execution_count": null,
   "metadata": {},
   "outputs": [],
   "source": [
    "def func(C,image,mins,bigs,sf=1.005):\n",
    "    \n",
    "    eyes = eye_cascade[C].detectMultiScale(image,sf,minSize=(mins,mins),maxSize=(bigs,bigs))\n",
    "    \n",
    "    return eyes"
   ]
  },
  {
   "cell_type": "code",
   "execution_count": null,
   "metadata": {},
   "outputs": [],
   "source": [
    "def segregate(eyes,mid,Leye,flagL,Reye,flagR):\n",
    "    \n",
    "    for (ex,ey,ew,eh) in eyes:\n",
    "        if ex+ew/2<mid:\n",
    "            flagL=1\n",
    "            eye=[ex,ey,ew,eh]\n",
    "            Leye.append(eye)\n",
    "            \n",
    "        elif ex+ew/2>mid:\n",
    "            flagR=1\n",
    "            eye=[ex,ey,ew,eh]\n",
    "            Reye.append(eye)\n",
    "            \n",
    "    return Leye,flagL,Reye,flagR"
   ]
  },
  {
   "cell_type": "code",
   "execution_count": null,
   "metadata": {},
   "outputs": [],
   "source": [
    "def draw_rect(resized,eye,color,size=40):\n",
    "    \n",
    "    for (ex,ey,ew,eh) in eye:\n",
    "        hw=int(ew/2)\n",
    "        xc,yc=ex+hw,ey+hw\n",
    "        x,y=xc-int(size/2),yc-int(size/2)\n",
    "        \n",
    "        cv2.rectangle(resized,(x,y),(x+size,y+size),color,2)"
   ]
  },
  {
   "cell_type": "code",
   "execution_count": null,
   "metadata": {},
   "outputs": [],
   "source": [
    "for i in range(len(img)):\n",
    "    \n",
    "    resized = img[i].copy()\n",
    "    image = cv2.cvtColor(img[i], cv2.COLOR_BGR2GRAY)\n",
    "    \n",
    "    Leye,Reye=findEyes(image)\n",
    "    \n",
    "    draw_rect(resized,Leye,(0,0,255))\n",
    "    draw_rect(resized,Reye,(0,255,0))\n",
    "    \n",
    "    cv2.imwrite(path+str(i).zfill(4)+r'.jpg',resized)"
   ]
  },
  {
   "cell_type": "code",
   "execution_count": null,
   "metadata": {},
   "outputs": [],
   "source": []
  }
 ],
 "metadata": {
  "kernelspec": {
   "display_name": "Python 3",
   "language": "python",
   "name": "python3"
  },
  "language_info": {
   "codemirror_mode": {
    "name": "ipython",
    "version": 3
   },
   "file_extension": ".py",
   "mimetype": "text/x-python",
   "name": "python",
   "nbconvert_exporter": "python",
   "pygments_lexer": "ipython3",
   "version": "3.7.4"
  }
 },
 "nbformat": 4,
 "nbformat_minor": 4
}
